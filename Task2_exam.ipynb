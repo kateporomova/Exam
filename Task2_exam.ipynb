{
 "cells": [
  {
   "cell_type": "code",
   "execution_count": 2,
   "id": "caedbcfd-7245-4b67-ab17-742126fdf0fd",
   "metadata": {},
   "outputs": [],
   "source": [
    "def f_1(number, degree_base):\n",
    "    while number > 1:\n",
    "        if number % degree_base != 0:\n",
    "            return False\n",
    "        number = number // degree_base\n",
    "    return True"
   ]
  },
  {
   "cell_type": "code",
   "execution_count": null,
   "id": "25fdbfa4-5b99-40d4-8edf-46c5540c4054",
   "metadata": {},
   "outputs": [],
   "source": []
  }
 ],
 "metadata": {
  "kernelspec": {
   "display_name": "Python 3 (ipykernel)",
   "language": "python",
   "name": "python3"
  },
  "language_info": {
   "codemirror_mode": {
    "name": "ipython",
    "version": 3
   },
   "file_extension": ".py",
   "mimetype": "text/x-python",
   "name": "python",
   "nbconvert_exporter": "python",
   "pygments_lexer": "ipython3",
   "version": "3.11.7"
  }
 },
 "nbformat": 4,
 "nbformat_minor": 5
}
