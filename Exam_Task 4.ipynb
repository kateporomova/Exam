{
 "cells": [
  {
   "cell_type": "code",
   "execution_count": 1,
   "id": "5a9e4aed-b9a9-44d4-9fd0-275cf90490a2",
   "metadata": {
    "tags": []
   },
   "outputs": [],
   "source": [
    "import os\n",
    "import json\n",
    "import psycopg2\n",
    "from psycopg2.extras import DictCursor"
   ]
  },
  {
   "cell_type": "code",
   "execution_count": 2,
   "id": "2b481273-8207-4311-8ca6-526602c3ccc3",
   "metadata": {
    "tags": []
   },
   "outputs": [],
   "source": [
    "POSTGRESQL_HOST = '10.129.0.25'"
   ]
  },
  {
   "cell_type": "code",
   "execution_count": 3,
   "id": "5d61d302-0259-481e-ac9e-43d2f2133b44",
   "metadata": {
    "tags": []
   },
   "outputs": [
    {
     "name": "stdout",
     "output_type": "stream",
     "text": [
      "Requirement already satisfied: ipython-sql in /opt/conda/lib/python3.10/site-packages (0.5.0)\n",
      "Requirement already satisfied: sqlparse in /opt/conda/lib/python3.10/site-packages (from ipython-sql) (0.4.4)\n",
      "Requirement already satisfied: sqlalchemy>=2.0 in /opt/conda/lib/python3.10/site-packages (from ipython-sql) (2.0.7)\n",
      "Requirement already satisfied: ipython-genutils in /opt/conda/lib/python3.10/site-packages (from ipython-sql) (0.2.0)\n",
      "Requirement already satisfied: ipython in /opt/conda/lib/python3.10/site-packages (from ipython-sql) (8.11.0)\n",
      "Requirement already satisfied: six in /opt/conda/lib/python3.10/site-packages (from ipython-sql) (1.16.0)\n",
      "Requirement already satisfied: prettytable in /opt/conda/lib/python3.10/site-packages (from ipython-sql) (3.7.0)\n",
      "Requirement already satisfied: typing-extensions>=4.2.0 in /opt/conda/lib/python3.10/site-packages (from sqlalchemy>=2.0->ipython-sql) (4.5.0)\n",
      "Requirement already satisfied: greenlet!=0.4.17 in /opt/conda/lib/python3.10/site-packages (from sqlalchemy>=2.0->ipython-sql) (2.0.2)\n",
      "Requirement already satisfied: pygments>=2.4.0 in /opt/conda/lib/python3.10/site-packages (from ipython->ipython-sql) (2.14.0)\n",
      "Requirement already satisfied: decorator in /opt/conda/lib/python3.10/site-packages (from ipython->ipython-sql) (5.1.1)\n",
      "Requirement already satisfied: stack-data in /opt/conda/lib/python3.10/site-packages (from ipython->ipython-sql) (0.6.2)\n",
      "Requirement already satisfied: traitlets>=5 in /opt/conda/lib/python3.10/site-packages (from ipython->ipython-sql) (5.9.0)\n",
      "Requirement already satisfied: matplotlib-inline in /opt/conda/lib/python3.10/site-packages (from ipython->ipython-sql) (0.1.6)\n",
      "Requirement already satisfied: prompt-toolkit!=3.0.37,<3.1.0,>=3.0.30 in /opt/conda/lib/python3.10/site-packages (from ipython->ipython-sql) (3.0.38)\n",
      "Requirement already satisfied: jedi>=0.16 in /opt/conda/lib/python3.10/site-packages (from ipython->ipython-sql) (0.18.2)\n",
      "Requirement already satisfied: pexpect>4.3 in /opt/conda/lib/python3.10/site-packages (from ipython->ipython-sql) (4.8.0)\n",
      "Requirement already satisfied: backcall in /opt/conda/lib/python3.10/site-packages (from ipython->ipython-sql) (0.2.0)\n",
      "Requirement already satisfied: pickleshare in /opt/conda/lib/python3.10/site-packages (from ipython->ipython-sql) (0.7.5)\n",
      "Requirement already satisfied: wcwidth in /opt/conda/lib/python3.10/site-packages (from prettytable->ipython-sql) (0.2.6)\n",
      "Requirement already satisfied: parso<0.9.0,>=0.8.0 in /opt/conda/lib/python3.10/site-packages (from jedi>=0.16->ipython->ipython-sql) (0.8.3)\n",
      "Requirement already satisfied: ptyprocess>=0.5 in /opt/conda/lib/python3.10/site-packages (from pexpect>4.3->ipython->ipython-sql) (0.7.0)\n",
      "Requirement already satisfied: pure-eval in /opt/conda/lib/python3.10/site-packages (from stack-data->ipython->ipython-sql) (0.2.2)\n",
      "Requirement already satisfied: executing>=1.2.0 in /opt/conda/lib/python3.10/site-packages (from stack-data->ipython->ipython-sql) (1.2.0)\n",
      "Requirement already satisfied: asttokens>=2.1.0 in /opt/conda/lib/python3.10/site-packages (from stack-data->ipython->ipython-sql) (2.2.1)\n"
     ]
    }
   ],
   "source": [
    "!pip install ipython-sql"
   ]
  },
  {
   "cell_type": "code",
   "execution_count": 4,
   "id": "9a82ea91-6d92-4da7-95c8-4561c97031c3",
   "metadata": {
    "tags": []
   },
   "outputs": [],
   "source": [
    "%load_ext sql"
   ]
  },
  {
   "cell_type": "code",
   "execution_count": 5,
   "id": "d06b22a5-f9ef-499b-871d-da3902e5f0e5",
   "metadata": {
    "tags": []
   },
   "outputs": [],
   "source": [
    "CONNECT_DATA = 'postgresql://{}:{}@{}/{}'.format(\n",
    "    os.environ['POSTGRESQL_USER'],\n",
    "    os.environ['POSTGRESQL_PASSWORD'],\n",
    "    POSTGRESQL_HOST,\n",
    "    'demo'\n",
    ")"
   ]
  },
  {
   "cell_type": "code",
   "execution_count": 6,
   "id": "ee331775-647f-4aca-a66f-653e380d7e4b",
   "metadata": {},
   "outputs": [
    {
     "name": "stdout",
     "output_type": "stream",
     "text": [
      "1 rows affected.\n"
     ]
    },
    {
     "data": {
      "text/html": [
       "<table>\n",
       "    <thead>\n",
       "        <tr>\n",
       "            <th>ticket_no</th>\n",
       "            <th>flight_count</th>\n",
       "        </tr>\n",
       "    </thead>\n",
       "    <tbody>\n",
       "        <tr>\n",
       "            <td>0005432312163</td>\n",
       "            <td>4</td>\n",
       "        </tr>\n",
       "    </tbody>\n",
       "</table>"
      ],
      "text/plain": [
       "[('0005432312163', 4)]"
      ]
     },
     "execution_count": 6,
     "metadata": {},
     "output_type": "execute_result"
    }
   ],
   "source": [
    "%%sql $CONNECT_DATA\n",
    "\n",
    "WITH number_of_tickets AS (\n",
    "    SELECT ticket_no, COUNT(flight_id) AS flight_count\n",
    "    FROM ticket_flights\n",
    "    GROUP BY ticket_no\n",
    ")\n",
    "SELECT * FROM number_of_tickets\n",
    "WHERE flight_count > 3\n",
    "LIMIT 1;"
   ]
  },
  {
   "cell_type": "code",
   "execution_count": 32,
   "id": "7a3f5129-2243-4767-ace9-6d05c17b0006",
   "metadata": {
    "tags": []
   },
   "outputs": [
    {
     "name": "stdout",
     "output_type": "stream",
     "text": [
      "1 rows affected.\n"
     ]
    },
    {
     "data": {
      "text/html": [
       "<table>\n",
       "    <thead>\n",
       "        <tr>\n",
       "            <th>count</th>\n",
       "        </tr>\n",
       "    </thead>\n",
       "    <tbody>\n",
       "        <tr>\n",
       "            <td>54</td>\n",
       "        </tr>\n",
       "    </tbody>\n",
       "</table>"
      ],
      "text/plain": [
       "[(54,)]"
      ]
     },
     "execution_count": 32,
     "metadata": {},
     "output_type": "execute_result"
    }
   ],
   "source": [
    "%%sql $CONNECT_DATA\n",
    "\n",
    "WITH number_of_tickets AS (\n",
    "    SELECT ticket_no, COUNT(flight_id) AS flight_count\n",
    "    FROM ticket_flights\n",
    "    GROUP BY ticket_no\n",
    ")\n",
    "SELECT COUNT(*) FROM number_of_tickets\n",
    "WHERE flight_count = 5;"
   ]
  },
  {
   "cell_type": "code",
   "execution_count": 9,
   "id": "5de5de91-db47-473d-a9dd-846888bd70f0",
   "metadata": {},
   "outputs": [
    {
     "name": "stdout",
     "output_type": "stream",
     "text": [
      "Done.\n",
      "Done.\n",
      "12 rows affected.\n",
      "10 rows affected.\n"
     ]
    },
    {
     "data": {
      "text/plain": [
       "[]"
      ]
     },
     "execution_count": 9,
     "metadata": {},
     "output_type": "execute_result"
    }
   ],
   "source": [
    "%%sql postgresql:///jovyan\n",
    "CREATE TABLE Employees (\n",
    "    EMPLOYEE_ID INT PRIMARY KEY,\n",
    "    FIRST_NAME VARCHAR(100),\n",
    "    LAST_NAME VARCHAR(100),\n",
    "    HIRE_DATE DATE,\n",
    "    JOB_ID VARCHAR(100),\n",
    "    MANAGER_ID INT,\n",
    "    DEPARTMENT_ID INT\n",
    ");\n",
    "\n",
    "CREATE TABLE Departments (\n",
    "    DEPARTMENT_ID INT PRIMARY KEY,\n",
    "    DEPARTMENT_NAME VARCHAR(100),\n",
    "    MANAGER_ID INT\n",
    ");\n",
    "INSERT INTO Employees (EMPLOYEE_ID, FIRST_NAME, LAST_NAME, HIRE_DATE, JOB_ID, MANAGER_ID, DEPARTMENT_ID)\n",
    "VALUES\n",
    "(100, 'Steven', 'King', '1987-06-17', 'AD_PRES', 0, 90),\n",
    "(101, 'Neena', 'Kochhar', '1987-06-18', 'AD_VP', 100, 90),\n",
    "(102, 'Lex', 'DeHaan', '1987-06-19', 'AD_VP', 100, 90),\n",
    "(103, 'Alexander', 'Hunold', '1987-06-20', 'IT_PROG', 102, 60),\n",
    "(107, 'Diana', 'Lorentz', '1987-06-24', 'IT_PROG', 103, 60),\n",
    "(108, 'Nancy', 'Greenberg', '1987-06-25', 'FI_MGR', 101, 100),\n",
    "(109, 'Daniel', 'Faviet', '1987-06-26', 'FI_ACCOUNT', 108, 100),\n",
    "(114, 'Den', 'Raphaely', '1987-07-01', 'PU_MAN', 100, 30),\n",
    "(118, 'Guy', 'Himuro', '1987-07-05', 'PU_CLERK', 114, 30),\n",
    "(144, 'Peter', 'Vargas', '1987-07-31', 'ST_CLERK', 114, 50),\n",
    "(145, 'John', 'Russell', '1987-08-01', 'SA_MAN', 100, 80),\n",
    "(146, 'Karen', 'Partners', '1987-08-02', 'SA_MAN', 100, 80);\n",
    "\n",
    "INSERT INTO Departments (DEPARTMENT_ID, DEPARTMENT_NAME, MANAGER_ID)\n",
    "VALUES\n",
    "(10, 'Administration', 200),\n",
    "(30, 'Purchasing', 114),\n",
    "(40, 'HumanResources', 203),\n",
    "(50, 'Shipping', 121),\n",
    "(60, 'IT', 103),\n",
    "(70, 'PublicRelations', 204),\n",
    "(80, 'Sales', 145),\n",
    "(90, 'Executive', 100),\n",
    "(100, 'Finance', 108),\n",
    "(110, 'Accounting', 205);"
   ]
  },
  {
   "cell_type": "code",
   "execution_count": 10,
   "id": "aa0a6bb2-98ac-41be-96ea-7902d5dac874",
   "metadata": {
    "tags": []
   },
   "outputs": [
    {
     "name": "stdout",
     "output_type": "stream",
     "text": [
      "12 rows affected.\n"
     ]
    },
    {
     "data": {
      "text/html": [
       "<table>\n",
       "    <thead>\n",
       "        <tr>\n",
       "            <th>employee_id</th>\n",
       "            <th>first_name</th>\n",
       "            <th>last_name</th>\n",
       "            <th>hire_date</th>\n",
       "            <th>job_id</th>\n",
       "            <th>manager_id</th>\n",
       "            <th>department_id</th>\n",
       "        </tr>\n",
       "    </thead>\n",
       "    <tbody>\n",
       "        <tr>\n",
       "            <td>100</td>\n",
       "            <td>Steven</td>\n",
       "            <td>King</td>\n",
       "            <td>1987-06-17</td>\n",
       "            <td>AD_PRES</td>\n",
       "            <td>0</td>\n",
       "            <td>90</td>\n",
       "        </tr>\n",
       "        <tr>\n",
       "            <td>101</td>\n",
       "            <td>Neena</td>\n",
       "            <td>Kochhar</td>\n",
       "            <td>1987-06-18</td>\n",
       "            <td>AD_VP</td>\n",
       "            <td>100</td>\n",
       "            <td>90</td>\n",
       "        </tr>\n",
       "        <tr>\n",
       "            <td>102</td>\n",
       "            <td>Lex</td>\n",
       "            <td>DeHaan</td>\n",
       "            <td>1987-06-19</td>\n",
       "            <td>AD_VP</td>\n",
       "            <td>100</td>\n",
       "            <td>90</td>\n",
       "        </tr>\n",
       "        <tr>\n",
       "            <td>103</td>\n",
       "            <td>Alexander</td>\n",
       "            <td>Hunold</td>\n",
       "            <td>1987-06-20</td>\n",
       "            <td>IT_PROG</td>\n",
       "            <td>102</td>\n",
       "            <td>60</td>\n",
       "        </tr>\n",
       "        <tr>\n",
       "            <td>107</td>\n",
       "            <td>Diana</td>\n",
       "            <td>Lorentz</td>\n",
       "            <td>1987-06-24</td>\n",
       "            <td>IT_PROG</td>\n",
       "            <td>103</td>\n",
       "            <td>60</td>\n",
       "        </tr>\n",
       "        <tr>\n",
       "            <td>108</td>\n",
       "            <td>Nancy</td>\n",
       "            <td>Greenberg</td>\n",
       "            <td>1987-06-25</td>\n",
       "            <td>FI_MGR</td>\n",
       "            <td>101</td>\n",
       "            <td>100</td>\n",
       "        </tr>\n",
       "        <tr>\n",
       "            <td>109</td>\n",
       "            <td>Daniel</td>\n",
       "            <td>Faviet</td>\n",
       "            <td>1987-06-26</td>\n",
       "            <td>FI_ACCOUNT</td>\n",
       "            <td>108</td>\n",
       "            <td>100</td>\n",
       "        </tr>\n",
       "        <tr>\n",
       "            <td>114</td>\n",
       "            <td>Den</td>\n",
       "            <td>Raphaely</td>\n",
       "            <td>1987-07-01</td>\n",
       "            <td>PU_MAN</td>\n",
       "            <td>100</td>\n",
       "            <td>30</td>\n",
       "        </tr>\n",
       "        <tr>\n",
       "            <td>118</td>\n",
       "            <td>Guy</td>\n",
       "            <td>Himuro</td>\n",
       "            <td>1987-07-05</td>\n",
       "            <td>PU_CLERK</td>\n",
       "            <td>114</td>\n",
       "            <td>30</td>\n",
       "        </tr>\n",
       "        <tr>\n",
       "            <td>144</td>\n",
       "            <td>Peter</td>\n",
       "            <td>Vargas</td>\n",
       "            <td>1987-07-31</td>\n",
       "            <td>ST_CLERK</td>\n",
       "            <td>114</td>\n",
       "            <td>50</td>\n",
       "        </tr>\n",
       "        <tr>\n",
       "            <td>145</td>\n",
       "            <td>John</td>\n",
       "            <td>Russell</td>\n",
       "            <td>1987-08-01</td>\n",
       "            <td>SA_MAN</td>\n",
       "            <td>100</td>\n",
       "            <td>80</td>\n",
       "        </tr>\n",
       "        <tr>\n",
       "            <td>146</td>\n",
       "            <td>Karen</td>\n",
       "            <td>Partners</td>\n",
       "            <td>1987-08-02</td>\n",
       "            <td>SA_MAN</td>\n",
       "            <td>100</td>\n",
       "            <td>80</td>\n",
       "        </tr>\n",
       "    </tbody>\n",
       "</table>"
      ],
      "text/plain": [
       "[(100, 'Steven', 'King', datetime.date(1987, 6, 17), 'AD_PRES', 0, 90),\n",
       " (101, 'Neena', 'Kochhar', datetime.date(1987, 6, 18), 'AD_VP', 100, 90),\n",
       " (102, 'Lex', 'DeHaan', datetime.date(1987, 6, 19), 'AD_VP', 100, 90),\n",
       " (103, 'Alexander', 'Hunold', datetime.date(1987, 6, 20), 'IT_PROG', 102, 60),\n",
       " (107, 'Diana', 'Lorentz', datetime.date(1987, 6, 24), 'IT_PROG', 103, 60),\n",
       " (108, 'Nancy', 'Greenberg', datetime.date(1987, 6, 25), 'FI_MGR', 101, 100),\n",
       " (109, 'Daniel', 'Faviet', datetime.date(1987, 6, 26), 'FI_ACCOUNT', 108, 100),\n",
       " (114, 'Den', 'Raphaely', datetime.date(1987, 7, 1), 'PU_MAN', 100, 30),\n",
       " (118, 'Guy', 'Himuro', datetime.date(1987, 7, 5), 'PU_CLERK', 114, 30),\n",
       " (144, 'Peter', 'Vargas', datetime.date(1987, 7, 31), 'ST_CLERK', 114, 50),\n",
       " (145, 'John', 'Russell', datetime.date(1987, 8, 1), 'SA_MAN', 100, 80),\n",
       " (146, 'Karen', 'Partners', datetime.date(1987, 8, 2), 'SA_MAN', 100, 80)]"
      ]
     },
     "execution_count": 10,
     "metadata": {},
     "output_type": "execute_result"
    }
   ],
   "source": [
    "%%sql postgresql:///jovyan\n",
    "SELECT \n",
    "    EMPLOYEE_ID,\n",
    "    FIRST_NAME,\n",
    "    LAST_NAME,\n",
    "    HIRE_DATE,\n",
    "    JOB_ID,\n",
    "    MANAGER_ID,\n",
    "    DEPARTMENT_ID\n",
    "FROM \n",
    "    Employees;"
   ]
  },
  {
   "cell_type": "code",
   "execution_count": 11,
   "id": "fb2e918f-f05f-4c03-9012-6bab829f2c23",
   "metadata": {
    "tags": []
   },
   "outputs": [
    {
     "name": "stdout",
     "output_type": "stream",
     "text": [
      "10 rows affected.\n"
     ]
    },
    {
     "data": {
      "text/html": [
       "<table>\n",
       "    <thead>\n",
       "        <tr>\n",
       "            <th>department_id</th>\n",
       "            <th>department_name</th>\n",
       "            <th>manager_id</th>\n",
       "        </tr>\n",
       "    </thead>\n",
       "    <tbody>\n",
       "        <tr>\n",
       "            <td>10</td>\n",
       "            <td>Administration</td>\n",
       "            <td>200</td>\n",
       "        </tr>\n",
       "        <tr>\n",
       "            <td>30</td>\n",
       "            <td>Purchasing</td>\n",
       "            <td>114</td>\n",
       "        </tr>\n",
       "        <tr>\n",
       "            <td>40</td>\n",
       "            <td>HumanResources</td>\n",
       "            <td>203</td>\n",
       "        </tr>\n",
       "        <tr>\n",
       "            <td>50</td>\n",
       "            <td>Shipping</td>\n",
       "            <td>121</td>\n",
       "        </tr>\n",
       "        <tr>\n",
       "            <td>60</td>\n",
       "            <td>IT</td>\n",
       "            <td>103</td>\n",
       "        </tr>\n",
       "        <tr>\n",
       "            <td>70</td>\n",
       "            <td>PublicRelations</td>\n",
       "            <td>204</td>\n",
       "        </tr>\n",
       "        <tr>\n",
       "            <td>80</td>\n",
       "            <td>Sales</td>\n",
       "            <td>145</td>\n",
       "        </tr>\n",
       "        <tr>\n",
       "            <td>90</td>\n",
       "            <td>Executive</td>\n",
       "            <td>100</td>\n",
       "        </tr>\n",
       "        <tr>\n",
       "            <td>100</td>\n",
       "            <td>Finance</td>\n",
       "            <td>108</td>\n",
       "        </tr>\n",
       "        <tr>\n",
       "            <td>110</td>\n",
       "            <td>Accounting</td>\n",
       "            <td>205</td>\n",
       "        </tr>\n",
       "    </tbody>\n",
       "</table>"
      ],
      "text/plain": [
       "[(10, 'Administration', 200),\n",
       " (30, 'Purchasing', 114),\n",
       " (40, 'HumanResources', 203),\n",
       " (50, 'Shipping', 121),\n",
       " (60, 'IT', 103),\n",
       " (70, 'PublicRelations', 204),\n",
       " (80, 'Sales', 145),\n",
       " (90, 'Executive', 100),\n",
       " (100, 'Finance', 108),\n",
       " (110, 'Accounting', 205)]"
      ]
     },
     "execution_count": 11,
     "metadata": {},
     "output_type": "execute_result"
    }
   ],
   "source": [
    "%%sql postgresql:///jovyan\n",
    "SELECT \n",
    "    DEPARTMENT_ID,\n",
    "    DEPARTMENT_NAME,\n",
    "    MANAGER_ID\n",
    "FROM \n",
    "    Departments"
   ]
  },
  {
   "cell_type": "code",
   "execution_count": 12,
   "id": "48e6c67d-8446-4f58-8ba4-9f1077d63d65",
   "metadata": {
    "tags": []
   },
   "outputs": [
    {
     "name": "stdout",
     "output_type": "stream",
     "text": [
      "1 rows affected.\n"
     ]
    },
    {
     "data": {
      "text/html": [
       "<table>\n",
       "    <thead>\n",
       "        <tr>\n",
       "            <th>department_name</th>\n",
       "            <th>first_name</th>\n",
       "            <th>last_name</th>\n",
       "        </tr>\n",
       "    </thead>\n",
       "    <tbody>\n",
       "        <tr>\n",
       "            <td>Executive</td>\n",
       "            <td>Steven</td>\n",
       "            <td>King</td>\n",
       "        </tr>\n",
       "    </tbody>\n",
       "</table>"
      ],
      "text/plain": [
       "[('Executive', 'Steven', 'King')]"
      ]
     },
     "execution_count": 12,
     "metadata": {},
     "output_type": "execute_result"
    }
   ],
   "source": [
    "%%sql postgresql:///jovyan\n",
    "SELECT \n",
    "    d.DEPARTMENT_NAME,\n",
    "    e.FIRST_NAME,\n",
    "    e.LAST_NAME\n",
    "FROM \n",
    "    Employees e\n",
    "JOIN \n",
    "    Departments d ON e.DEPARTMENT_ID = d.DEPARTMENT_ID\n",
    "WHERE \n",
    "    e.HIRE_DATE = (SELECT MIN(HIRE_DATE) FROM Employees)"
   ]
  },
  {
   "cell_type": "code",
   "execution_count": 16,
   "id": "7cd84ae4-b4a5-45f6-8172-05dcd14a35cd",
   "metadata": {},
   "outputs": [
    {
     "name": "stdout",
     "output_type": "stream",
     "text": [
      "5 rows affected.\n"
     ]
    },
    {
     "data": {
      "text/html": [
       "<table>\n",
       "    <thead>\n",
       "        <tr>\n",
       "            <th>department_name</th>\n",
       "            <th>manager_full_name</th>\n",
       "            <th>num_employees</th>\n",
       "        </tr>\n",
       "    </thead>\n",
       "    <tbody>\n",
       "        <tr>\n",
       "            <td>Executive</td>\n",
       "            <td>Steven King</td>\n",
       "            <td>3</td>\n",
       "        </tr>\n",
       "        <tr>\n",
       "            <td>Finance</td>\n",
       "            <td>Nancy Greenberg</td>\n",
       "            <td>2</td>\n",
       "        </tr>\n",
       "        <tr>\n",
       "            <td>IT</td>\n",
       "            <td>Alexander Hunold</td>\n",
       "            <td>2</td>\n",
       "        </tr>\n",
       "        <tr>\n",
       "            <td>Purchasing</td>\n",
       "            <td>Den Raphaely</td>\n",
       "            <td>2</td>\n",
       "        </tr>\n",
       "        <tr>\n",
       "            <td>Sales</td>\n",
       "            <td>John Russell</td>\n",
       "            <td>2</td>\n",
       "        </tr>\n",
       "    </tbody>\n",
       "</table>"
      ],
      "text/plain": [
       "[('Executive', 'Steven King', 3),\n",
       " ('Finance', 'Nancy Greenberg', 2),\n",
       " ('IT', 'Alexander Hunold', 2),\n",
       " ('Purchasing', 'Den Raphaely', 2),\n",
       " ('Sales', 'John Russell', 2)]"
      ]
     },
     "execution_count": 16,
     "metadata": {},
     "output_type": "execute_result"
    }
   ],
   "source": [
    "%%sql postgresql:///jovyan\n",
    " SELECT \n",
    "    d.DEPARTMENT_NAME, \n",
    "    CONCAT(e.FIRST_NAME, ' ', e.LAST_NAME) AS MANAGER_FULL_NAME,\n",
    "    f.NUM_EMPLOYEES\n",
    "FROM \n",
    "    Departments d\n",
    "JOIN \n",
    "    Employees e \n",
    "ON \n",
    "    d.MANAGER_ID = e.EMPLOYEE_ID\n",
    "JOIN\n",
    "(SELECT DEPARTMENT_ID, COUNT(*) AS NUM_EMPLOYEES FROM Employees\n",
    "GROUP BY \n",
    "    DEPARTMENT_ID) f\n",
    "ON d. DEPARTMENT_ID=f. DEPARTMENT_ID ORDER BY d.DEPARTMENT_NAME"
   ]
  },
  {
   "cell_type": "code",
   "execution_count": null,
   "id": "d293159a-c8b5-4038-869c-e67309a0cb2c",
   "metadata": {
    "tags": []
   },
   "outputs": [],
   "source": []
  },
  {
   "cell_type": "code",
   "execution_count": null,
   "id": "312ccf67-82dd-4e5e-b956-e0bd87d3a4ff",
   "metadata": {
    "tags": []
   },
   "outputs": [],
   "source": []
  },
  {
   "cell_type": "code",
   "execution_count": null,
   "id": "167e11ce-ea44-46c8-9462-1580aefb0c76",
   "metadata": {
    "tags": []
   },
   "outputs": [],
   "source": []
  },
  {
   "cell_type": "code",
   "execution_count": null,
   "id": "a53fc9b4-af0d-4628-b694-436da8c6cfab",
   "metadata": {
    "tags": []
   },
   "outputs": [],
   "source": []
  },
  {
   "cell_type": "code",
   "execution_count": null,
   "id": "531d8855-4941-4a54-bf53-7bec35dec064",
   "metadata": {},
   "outputs": [],
   "source": []
  },
  {
   "cell_type": "code",
   "execution_count": null,
   "id": "0de80881-b10f-4604-94e2-eff706406f71",
   "metadata": {},
   "outputs": [],
   "source": []
  }
 ],
 "metadata": {
  "kernelspec": {
   "display_name": "Python 3 (ipykernel)",
   "language": "python",
   "name": "python3"
  },
  "language_info": {
   "codemirror_mode": {
    "name": "ipython",
    "version": 3
   },
   "file_extension": ".py",
   "mimetype": "text/x-python",
   "name": "python",
   "nbconvert_exporter": "python",
   "pygments_lexer": "ipython3",
   "version": "3.10.9"
  }
 },
 "nbformat": 4,
 "nbformat_minor": 5
}
